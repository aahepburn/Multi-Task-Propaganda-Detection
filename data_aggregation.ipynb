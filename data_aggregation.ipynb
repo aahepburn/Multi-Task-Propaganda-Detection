{
 "cells": [
  {
   "cell_type": "markdown",
   "metadata": {},
   "source": [
    "# TXT to CSV conversion\n",
    "\n",
    "Data aggregation scripts to assemble CSV datasets. "
   ]
  },
  {
   "cell_type": "code",
   "execution_count": 2,
   "metadata": {},
   "outputs": [],
   "source": [
    "import pandas as pd\n",
    "import numpy as np\n",
    "import os"
   ]
  },
  {
   "cell_type": "markdown",
   "metadata": {},
   "source": [
    "## TEXT DATA"
   ]
  },
  {
   "cell_type": "code",
   "execution_count": null,
   "metadata": {},
   "outputs": [],
   "source": [
    "# TRAIN DATA language subfolders\n",
    "data = []\n",
    "\n",
    "output_directory = '/Users/aahepburn/Development/Multi-task-Propaganda-Detection-MSc-Thesis-2025-AH/Data/TRAIN'\n",
    "root_directory = '/Users/aahepburn/Development/Data/Train Data'\n",
    "raw_folder = 'raw-documents'\n",
    "\n",
    "for lang_folder in os.listdir(root_directory):\n",
    "    language_path = os.path.join(root_directory, lang_folder)\n",
    "    raw_documents_path = os.path.join(language_path, raw_folder)\n",
    "    if not os.path.isdir(language_path):\n",
    "        continue \n",
    "    for file in os.listdir(raw_documents_path):\n",
    "        file_path = os.path.join(raw_documents_path, file)\n",
    "        with open(file_path,'r', encoding='utf-8') as file:\n",
    "            content = file.read()\n",
    "            data.append({\n",
    "                        \"Filename\": os.path.basename(file_path),\n",
    "                        \"Language\": lang_folder, \n",
    "                        \"Content\": content\n",
    "                    })\n",
    "\n",
    "df1 = pd.DataFrame(data, header=None)\n",
    "\n",
    "# TRAIN DATA - extra Russian articles\n",
    "data = []\n",
    "\n",
    "root_directory = '/Users/aahepburn/Development/Data/More Train Data RU/raw-documents'\n",
    "\n",
    "for file in os.listdir(root_directory):\n",
    "    file_path = os.path.join(root_directory, file)\n",
    "    with open(file_path, 'r', encoding='utf-8') as file:\n",
    "        content = file.read()\n",
    "        data.append({\n",
    "                    \"Filename\": os.path.basename(file_path),\n",
    "                    \"Language\": 'RU', \n",
    "                    \"Content\": content\n",
    "                })\n",
    "        \n",
    "# Save combined CSV file        \n",
    "df2 = pd.DataFrame(data, header=None)\n",
    "df = pd.concat([df1,df2])\n",
    "df.to_csv(output_directory + '/train_raw_text.csv')\n"
   ]
  },
  {
   "cell_type": "code",
   "execution_count": null,
   "metadata": {},
   "outputs": [],
   "source": [
    "# DEV SET - language subfolders - subtask 1\n",
    "data = []\n",
    "\n",
    "output_directory = '/Users/aahepburn/Development/Multi-task-Propaganda-Detection-MSc-Thesis-2025-AH/Data'\n",
    "root_directory = '/Users/aahepburn/Development/Data/Dev Set Labels'\n",
    "raw_folder = 'subtask-2-documents'\n",
    "\n",
    "for lang_folder in os.listdir(root_directory):\n",
    "    language_path = os.path.join(root_directory, lang_folder)\n",
    "    raw_documents_path = os.path.join(language_path, raw_folder)\n",
    "    if not os.path.isdir(language_path):\n",
    "        continue \n",
    "    for file in os.listdir(raw_documents_path):\n",
    "        file_path = os.path.join(raw_documents_path, file)\n",
    "        with open(file_path,'r', encoding='utf-8') as file:\n",
    "            content = file.read()\n",
    "            data.append({\n",
    "                        \"Filename\": os.path.basename(file_path),\n",
    "                        \"Language\": lang_folder, \n",
    "                        \"Content\": content\n",
    "                    })\n",
    "\n",
    "dev_s1 = pd.DataFrame(data)\n",
    "dev_s1.to_csv(output_directory + '/dev_s1_nolabels.csv')"
   ]
  },
  {
   "cell_type": "code",
   "execution_count": null,
   "metadata": {},
   "outputs": [],
   "source": [
    "# DEV SET - language subfolders - subtask 2\n",
    "data = []\n",
    "\n",
    "output_directory = '/Users/aahepburn/Development/Multi-task-Propaganda-Detection-MSc-Thesis-2025-AH/Data'\n",
    "root_directory = '/Users/aahepburn/Development/Data/Dev Set Labels'\n",
    "raw_folder = 'subtask-2-documents'\n",
    "\n",
    "for lang_folder in os.listdir(root_directory):\n",
    "    language_path = os.path.join(root_directory, lang_folder)\n",
    "    raw_documents_path = os.path.join(language_path, raw_folder)\n",
    "    if not os.path.isdir(language_path):\n",
    "        continue \n",
    "    for file in os.listdir(raw_documents_path):\n",
    "        file_path = os.path.join(raw_documents_path, file)\n",
    "        with open(file_path,'r', encoding='utf-8') as file:\n",
    "            content = file.read()\n",
    "            data.append({\n",
    "                        \"Filename\": os.path.basename(file_path),\n",
    "                        \"Language\": lang_folder, \n",
    "                        \"Content\": content\n",
    "                    })\n",
    "\n",
    "dev_s2 = pd.DataFrame(data)\n",
    "dev_s2.to_csv(output_directory + '/dev_s2_nolabels.csv')"
   ]
  },
  {
   "cell_type": "markdown",
   "metadata": {},
   "source": [
    "## LABELS"
   ]
  },
  {
   "cell_type": "code",
   "execution_count": null,
   "metadata": {},
   "outputs": [
    {
     "name": "stdout",
     "output_type": "stream",
     "text": [
      "Saved: /Users/aahepburn/Development/Multi-task-Propaganda-Detection-MSc-Thesis-2025-AH/Data/subtask1_RU.csv\n",
      "Saved: /Users/aahepburn/Development/Multi-task-Propaganda-Detection-MSc-Thesis-2025-AH/Data/subtask2_RU.csv\n",
      "Saved: /Users/aahepburn/Development/Multi-task-Propaganda-Detection-MSc-Thesis-2025-AH/Data/subtask1_PT.csv\n",
      "Saved: /Users/aahepburn/Development/Multi-task-Propaganda-Detection-MSc-Thesis-2025-AH/Data/subtask2_PT.csv\n",
      "Saved: /Users/aahepburn/Development/Multi-task-Propaganda-Detection-MSc-Thesis-2025-AH/Data/subtask1_BG.csv\n",
      "Saved: /Users/aahepburn/Development/Multi-task-Propaganda-Detection-MSc-Thesis-2025-AH/Data/subtask2_BG.csv\n",
      "Saved: /Users/aahepburn/Development/Multi-task-Propaganda-Detection-MSc-Thesis-2025-AH/Data/subtask1_HI.csv\n",
      "Saved: /Users/aahepburn/Development/Multi-task-Propaganda-Detection-MSc-Thesis-2025-AH/Data/subtask2_HI.csv\n",
      "Saved: /Users/aahepburn/Development/Multi-task-Propaganda-Detection-MSc-Thesis-2025-AH/Data/subtask1_EN.csv\n",
      "Saved: /Users/aahepburn/Development/Multi-task-Propaganda-Detection-MSc-Thesis-2025-AH/Data/subtask2_EN.csv\n"
     ]
    }
   ],
   "source": [
    "# TRAIN labels ---> read TXT ---> write CSV\n",
    "\n",
    "# Define root and output directories\n",
    "root_directory = '/Users/aahepburn/Development/Data/Train Data'\n",
    "subtask1 = 'subtask-1-annotations.txt'\n",
    "subtask2 = 'subtask-2-annotations.txt'\n",
    "output_directory = '/Users/aahepburn/Development/Multi-task-Propaganda-Detection-MSc-Thesis-2025-AH/Data'\n",
    "os.makedirs(output_directory, exist_ok=True)\n",
    "\n",
    "for lang_folder in os.listdir(root_directory):\n",
    "    language_path = os.path.join(root_directory, lang_folder)\n",
    "    if not os.path.isdir(language_path): \n",
    "        continue \n",
    "\n",
    "    # subtask-1-annotations.txt\n",
    "    file_path = os.path.join(language_path, subtask1)\n",
    "    if os.path.exists(file_path):\n",
    "        try:\n",
    "            with open(file_path, 'r', encoding='utf-8') as file:\n",
    "                lines = file.readlines()\n",
    "            data = [line.strip().split('\\t') for line in lines]\n",
    "            max_cols = max(len(row) for row in data)\n",
    "            column_names = ['File', 'Entity', 'Start', 'End'] + [f'Label{i}' for i in range(1, max_cols - 3)]\n",
    "            subtask1_df = pd.DataFrame(data, columns=column_names)\n",
    "\n",
    "            output_file = os.path.join(output_directory, f'subtask1_{lang_folder}.csv')\n",
    "            subtask1_df.to_csv(output_file, index=False)\n",
    "            print(f\"Saved: {output_file}\")\n",
    "\n",
    "        except Exception as e:\n",
    "            print(f\"Error processing {file_path}: {e}\")\n",
    "\n",
    "    # subtask-2-annotations.txt\n",
    "    file_path = os.path.join(language_path, subtask2)\n",
    "    if os.path.exists(file_path):\n",
    "        try:\n",
    "            subtask2_df = pd.read_csv(file_path, sep='\\t', header=None, engine='python')\n",
    "            output_file = os.path.join(output_directory, f'subtask2_{lang_folder}.csv')\n",
    "            \n",
    "            subtask2_df.to_csv(output_file, index=False)\n",
    "            print(f\"Saved: {output_file}\")\n",
    "\n",
    "        except Exception as e:\n",
    "            print(f\"Error processing {file_path}: {e}\")\n"
   ]
  },
  {
   "cell_type": "code",
   "execution_count": 57,
   "metadata": {},
   "outputs": [
    {
     "name": "stdout",
     "output_type": "stream",
     "text": [
      "Saved: /Users/aahepburn/Development/Multi-task-Propaganda-Detection-MSc-Thesis-2025-AH/Data/subtask1moreRU_EN.csv\n"
     ]
    }
   ],
   "source": [
    "output_directory = '/Users/aahepburn/Development/Multi-task-Propaganda-Detection-MSc-Thesis-2025-AH/Data'\n",
    "\n",
    "with open('/Users/aahepburn/Development/Data/More Train Data RU/subtask-1-annotations.txt', 'r', encoding='utf-8') as file:\n",
    "    lines = file.readlines()\n",
    "data = [line.strip().split('\\t') for line in lines]\n",
    "max_cols = max(len(row) for row in data)\n",
    "column_names = ['File', 'Entity', 'Start', 'End'] + [f'Label{i}' for i in range(1, max_cols - 3)]\n",
    "subtask1_df = pd.DataFrame(data, columns=column_names)\n",
    "\n",
    "output_file = os.path.join(output_directory, f'subtask1moreRU_{lang_folder}.csv')\n",
    "subtask1_df.to_csv(output_file, index=False)\n",
    "print(f\"Saved: {output_file}\")"
   ]
  },
  {
   "cell_type": "code",
   "execution_count": 58,
   "metadata": {},
   "outputs": [
    {
     "name": "stdout",
     "output_type": "stream",
     "text": [
      "Saved: /Users/aahepburn/Development/Multi-task-Propaganda-Detection-MSc-Thesis-2025-AH/Data/subtask2moreRU_EN.csv\n"
     ]
    }
   ],
   "source": [
    "\n",
    "subtask2_df = pd.read_csv('/Users/aahepburn/Development/Data/More Train Data RU/subtask-2-annotations.txt', sep='\\t', header=None, engine='python')\n",
    "output_file = os.path.join(output_directory, f'subtask2moreRU_{lang_folder}.csv')\n",
    "subtask2_df.to_csv(output_file, index=False)\n",
    "print(f\"Saved: {output_file}\")"
   ]
  },
  {
   "cell_type": "code",
   "execution_count": 3,
   "metadata": {},
   "outputs": [
    {
     "name": "stdout",
     "output_type": "stream",
     "text": [
      "Saved: /Users/aahepburn/Development/Multi-task-Propaganda-Detection-MSc-Thesis-2025-AH/Data/TEST/subtask1_RU.csv\n",
      "Saved: /Users/aahepburn/Development/Multi-task-Propaganda-Detection-MSc-Thesis-2025-AH/Data/TEST/subtask2_RU.csv\n",
      "Saved: /Users/aahepburn/Development/Multi-task-Propaganda-Detection-MSc-Thesis-2025-AH/Data/TEST/subtask1_PT.csv\n",
      "Saved: /Users/aahepburn/Development/Multi-task-Propaganda-Detection-MSc-Thesis-2025-AH/Data/TEST/subtask2_PT.csv\n",
      "Saved: /Users/aahepburn/Development/Multi-task-Propaganda-Detection-MSc-Thesis-2025-AH/Data/TEST/subtask1_BG.csv\n",
      "Saved: /Users/aahepburn/Development/Multi-task-Propaganda-Detection-MSc-Thesis-2025-AH/Data/TEST/subtask2_BG.csv\n",
      "Saved: /Users/aahepburn/Development/Multi-task-Propaganda-Detection-MSc-Thesis-2025-AH/Data/TEST/subtask1_HI.csv\n",
      "Saved: /Users/aahepburn/Development/Multi-task-Propaganda-Detection-MSc-Thesis-2025-AH/Data/TEST/subtask2_HI.csv\n",
      "Saved: /Users/aahepburn/Development/Multi-task-Propaganda-Detection-MSc-Thesis-2025-AH/Data/TEST/subtask1_EN.csv\n",
      "Saved: /Users/aahepburn/Development/Multi-task-Propaganda-Detection-MSc-Thesis-2025-AH/Data/TEST/subtask2_EN.csv\n"
     ]
    }
   ],
   "source": [
    "# DEV labels ---> read TXT ---> write CSV\n",
    "\n",
    "# Define root and output directories\n",
    "root_directory = '/Users/aahepburn/Development/Data/Dev Set Labels'\n",
    "subtask1 = 'subtask-1-annotations.txt'\n",
    "subtask2 = 'subtask-2-annotations.txt'\n",
    "output_directory = '/Users/aahepburn/Development/Multi-task-Propaganda-Detection-MSc-Thesis-2025-AH/Data/TEST'\n",
    "os.makedirs(output_directory, exist_ok=True)\n",
    "\n",
    "for lang_folder in os.listdir(root_directory):\n",
    "    language_path = os.path.join(root_directory, lang_folder)\n",
    "    if not os.path.isdir(language_path): \n",
    "        continue \n",
    "\n",
    "    # subtask-1-annotations.txt\n",
    "    file_path = os.path.join(language_path, subtask1)\n",
    "    if os.path.exists(file_path):\n",
    "        try:\n",
    "            with open(file_path, 'r', encoding='utf-8') as file:\n",
    "                lines = file.readlines()\n",
    "            data = [line.strip().split('\\t') for line in lines]\n",
    "            max_cols = max(len(row) for row in data)\n",
    "            column_names = ['File', 'Entity', 'Start', 'End'] + [f'Label{i}' for i in range(1, max_cols - 3)]\n",
    "            subtask1_df = pd.DataFrame(data, columns=column_names)\n",
    "\n",
    "            output_file = os.path.join(output_directory, f'subtask1_{lang_folder}.csv')\n",
    "            subtask1_df.to_csv(output_file, index=False)\n",
    "            print(f\"Saved: {output_file}\")\n",
    "\n",
    "        except Exception as e:\n",
    "            print(f\"Error processing {file_path}: {e}\")\n",
    "\n",
    "    # subtask-2-annotations.txt\n",
    "    file_path = os.path.join(language_path, subtask2)\n",
    "    if os.path.exists(file_path):\n",
    "        try:\n",
    "            subtask2_df = pd.read_csv(file_path, sep='\\t', header=None, engine='python')\n",
    "            output_file = os.path.join(output_directory, f'subtask2_{lang_folder}.csv')\n",
    "            \n",
    "            subtask2_df.to_csv(output_file, index=False)\n",
    "            print(f\"Saved: {output_file}\")\n",
    "\n",
    "        except Exception as e:\n",
    "            print(f\"Error processing {file_path}: {e}\")\n"
   ]
  }
 ],
 "metadata": {
  "kernelspec": {
   "display_name": "Python 3",
   "language": "python",
   "name": "python3"
  },
  "language_info": {
   "codemirror_mode": {
    "name": "ipython",
    "version": 3
   },
   "file_extension": ".py",
   "mimetype": "text/x-python",
   "name": "python",
   "nbconvert_exporter": "python",
   "pygments_lexer": "ipython3",
   "version": "3.11.11"
  }
 },
 "nbformat": 4,
 "nbformat_minor": 2
}
