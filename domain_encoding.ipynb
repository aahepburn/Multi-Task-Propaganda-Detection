{
 "cells": [
  {
   "metadata": {
    "ExecuteTime": {
     "end_time": "2025-03-15T15:34:39.706458Z",
     "start_time": "2025-03-15T15:34:39.702762Z"
    }
   },
   "cell_type": "code",
   "source": [
    "import pandas as pd\n",
    "import numpy as np\n",
    "import os\n",
    "import re"
   ],
   "id": "62dee585fe8b518f",
   "outputs": [],
   "execution_count": 35
  },
  {
   "metadata": {
    "ExecuteTime": {
     "end_time": "2025-03-15T15:24:36.789807Z",
     "start_time": "2025-03-15T15:24:36.787196Z"
    }
   },
   "cell_type": "code",
   "source": "os.chdir('Data/Train')",
   "id": "485cfe85b69e30f",
   "outputs": [],
   "execution_count": 3
  },
  {
   "metadata": {},
   "cell_type": "code",
   "outputs": [],
   "execution_count": null,
   "source": "#",
   "id": "14547e67a7d6018f"
  },
  {
   "metadata": {},
   "cell_type": "markdown",
   "source": "# Train File",
   "id": "b8003f0a51548316"
  },
  {
   "metadata": {
    "ExecuteTime": {
     "end_time": "2025-03-15T15:34:23.984172Z",
     "start_time": "2025-03-15T15:34:23.852936Z"
    }
   },
   "cell_type": "code",
   "source": "df = pd.read_csv('final_translated_dataset.csv', index_col=0)\n",
   "id": "d8da750088f20e85",
   "outputs": [],
   "execution_count": 33
  },
  {
   "cell_type": "code",
   "id": "initial_id",
   "metadata": {
    "collapsed": true,
    "ExecuteTime": {
     "end_time": "2025-03-15T15:35:08.264138Z",
     "start_time": "2025-03-15T15:35:08.124453Z"
    }
   },
   "source": [
    "pattern1 = r\"CC\"\n",
    "pattern2 = r\"UA|RU|URW\"\n",
    "\n",
    "# Iterate through DataFrame and assign values\n",
    "for index, row in df.iterrows():\n",
    "    if re.search(pattern1, row['Filename']):\n",
    "        df.loc[index, 'Domain'] = 'CC'\n",
    "    elif re.search(pattern2, row['Filename']):\n",
    "        df.loc[index, 'Domain'] = 'UA'\n",
    "    else:\n",
    "        df.loc[index, 'Domain'] = '-'"
   ],
   "outputs": [],
   "execution_count": 36
  },
  {
   "metadata": {
    "ExecuteTime": {
     "end_time": "2025-03-15T15:37:23.875660Z",
     "start_time": "2025-03-15T15:37:23.869984Z"
    }
   },
   "cell_type": "code",
   "source": [
    "cc_keywords = r\"\\b(climate|warming|carbon|greenhouse|renewable|sustainability|heat|deforestation|weather|flooding)\\b\"\n",
    "ua_keywords = r\"\\b(Ukraine|Russia|NATO|conflict|sanctions|Putin|Zelensky|war|invasion|Russian|Ukrainian|Lugansk|enemy)\\b\"\n",
    "\n",
    "for index, row in df[df['Domain']=='-'].iterrows():\n",
    "    if re.search(cc_keywords, row['Translated_Content'],re.IGNORECASE):\n",
    "        df.loc[index, 'Domain'] = 'CC'\n",
    "    elif re.search(ua_keywords, row['Translated_Content'],re.IGNORECASE):\n",
    "        df.loc[index, 'Domain'] = 'UA'\n",
    "    else:\n",
    "        df.loc[index, 'Domain'] = '-'\n"
   ],
   "id": "6ded7bf1d4b83671",
   "outputs": [],
   "execution_count": 43
  },
  {
   "metadata": {
    "ExecuteTime": {
     "end_time": "2025-03-15T15:37:25.232536Z",
     "start_time": "2025-03-15T15:37:25.227336Z"
    }
   },
   "cell_type": "code",
   "source": "df['Domain'].value_counts()",
   "id": "3c6d9c22d1974867",
   "outputs": [
    {
     "data": {
      "text/plain": [
       "Domain\n",
       "UA    1343\n",
       "CC     571\n",
       "Name: count, dtype: int64"
      ]
     },
     "execution_count": 44,
     "metadata": {},
     "output_type": "execute_result"
    }
   ],
   "execution_count": 44
  },
  {
   "metadata": {
    "ExecuteTime": {
     "end_time": "2025-03-15T15:42:10.071366Z",
     "start_time": "2025-03-15T15:42:10.067637Z"
    }
   },
   "cell_type": "code",
   "source": "df.drop(['Content','Unnamed: 0'], axis=1, inplace=True)",
   "id": "7448a1aeed48adbf",
   "outputs": [],
   "execution_count": 52
  },
  {
   "metadata": {
    "ExecuteTime": {
     "end_time": "2025-03-15T15:46:21.571126Z",
     "start_time": "2025-03-15T15:46:21.500666Z"
    }
   },
   "cell_type": "code",
   "source": "df.to_csv('train_coded.csv', index=False)",
   "id": "13bdb3c344eb548d",
   "outputs": [],
   "execution_count": 55
  },
  {
   "metadata": {},
   "cell_type": "markdown",
   "source": "# Test Files",
   "id": "60a8e4e0a79cb7c3"
  },
  {
   "metadata": {
    "ExecuteTime": {
     "end_time": "2025-03-19T23:05:26.555942Z",
     "start_time": "2025-03-19T23:05:26.552614Z"
    }
   },
   "cell_type": "code",
   "source": [
    "import pandas as pd\n",
    "import numpy as np\n",
    "import os\n",
    "import re"
   ],
   "id": "bf713c25fcac1205",
   "outputs": [],
   "execution_count": 25
  },
  {
   "metadata": {
    "ExecuteTime": {
     "end_time": "2025-03-19T23:05:26.983880Z",
     "start_time": "2025-03-19T23:05:26.982063Z"
    }
   },
   "cell_type": "code",
   "source": "os.chdir('/Users/aahepburn/Development/Multi-task-Propaganda-Detection-MSc-Thesis-2025-AH/Data')",
   "id": "c9c63bd520aedd66",
   "outputs": [],
   "execution_count": 26
  },
  {
   "metadata": {
    "ExecuteTime": {
     "end_time": "2025-03-19T23:05:27.433223Z",
     "start_time": "2025-03-19T23:05:27.430233Z"
    }
   },
   "cell_type": "code",
   "source": [
    "def code_lang(df):\n",
    "    pattern1 = r\"RU\"\n",
    "    pattern2 = r\"HI\"\n",
    "    pattern3 = r\"PT\"\n",
    "    pattern4 = r\"BG\"\n",
    "    pattern5 = r\"EN\"\n",
    "\n",
    "    for index, row in df.iterrows():\n",
    "        if re.search(pattern1, row['Filename']):\n",
    "            df.loc[index, 'Language'] = 'RU'\n",
    "        elif re.search(pattern2, row['Filename']):\n",
    "            df.loc[index, 'Language'] = 'HI'\n",
    "        elif re.search(pattern3, row['Filename']):\n",
    "            df.loc[index, 'Language'] = 'PT'\n",
    "        elif re.search(pattern4, row['Filename']):\n",
    "            df.loc[index, 'Language'] = 'BG'\n",
    "        elif re.search(pattern5, row['Filename']):\n",
    "            df.loc[index, 'Language'] = 'EN'\n",
    "        else:\n",
    "            df.loc[index, 'Language'] = '-'\n",
    "    return df"
   ],
   "id": "9137f841411f4647",
   "outputs": [],
   "execution_count": 27
  },
  {
   "metadata": {
    "ExecuteTime": {
     "end_time": "2025-03-19T23:05:27.947318Z",
     "start_time": "2025-03-19T23:05:27.944206Z"
    }
   },
   "cell_type": "code",
   "source": [
    "def code_domain_filename(df):\n",
    "    pattern1 = r\"CC\"\n",
    "    pattern2 = r\"UA|RU|URW\"\n",
    "\n",
    "    for index, row in df.iterrows():\n",
    "        if re.search(pattern1, row['Filename']):\n",
    "            df.loc[index, 'Domain'] = 'CC'\n",
    "        elif re.search(pattern2, row['Filename']):\n",
    "            df.loc[index, 'Domain'] = 'UA'\n",
    "        else:\n",
    "            df.loc[index, 'Domain'] = '-'\n",
    "    return df"
   ],
   "id": "cc7bd449dbf13f70",
   "outputs": [],
   "execution_count": 28
  },
  {
   "metadata": {
    "ExecuteTime": {
     "end_time": "2025-03-19T23:05:28.496038Z",
     "start_time": "2025-03-19T23:05:28.492198Z"
    }
   },
   "cell_type": "code",
   "source": [
    "def code_domain_text(df):\n",
    "    cc_keywords = r\"\\b(climate|warming|carbon|greenhouse|renewable|sustainability|heat|deforestation|weather|flooding)\\b\"\n",
    "    ua_keywords = r\"\\b(Ukraine|Russia|NATO|conflict|sanctions|Putin|Zelensky|war|invasion|Russian|Ukrainian|Lugansk|enemy)\\b\"\n",
    "\n",
    "    for index, row in df[df['Domain']=='-'].iterrows():\n",
    "        if re.search(cc_keywords, row['Translated_Text'],re.IGNORECASE):\n",
    "            df.loc[index, 'Domain'] = 'CC'\n",
    "        elif re.search(ua_keywords, row['Translated_Text'],re.IGNORECASE):\n",
    "            df.loc[index, 'Domain'] = 'UA'\n",
    "        else:\n",
    "            df.loc[index, 'Domain'] = '-'\n",
    "    return df\n"
   ],
   "id": "d24c21861de5b7e4",
   "outputs": [],
   "execution_count": 29
  },
  {
   "metadata": {
    "ExecuteTime": {
     "end_time": "2025-03-19T23:05:29.031207Z",
     "start_time": "2025-03-19T23:05:28.937616Z"
    }
   },
   "cell_type": "code",
   "source": [
    "train_all = pd.read_csv('Train/train-all-articles.csv')\n",
    "train_S1 = pd.read_csv('Train/train-S1-articles.csv')\n",
    "test_S1 = pd.read_csv('Test/test-S1-articles.csv')\n",
    "test_S2 = pd.read_csv('Test/test-S2-articles.csv')"
   ],
   "id": "b253bef47bfbfcab",
   "outputs": [],
   "execution_count": 30
  },
  {
   "metadata": {
    "ExecuteTime": {
     "end_time": "2025-03-19T23:05:30.064492Z",
     "start_time": "2025-03-19T23:05:29.541790Z"
    }
   },
   "cell_type": "code",
   "source": [
    "train_all = code_lang(train_all)\n",
    "train_all = code_domain_filename(train_all)\n",
    "train_all = code_domain_text(train_all)\n",
    "\n",
    "train_S1 = code_lang(train_S1)\n",
    "train_S1 = code_domain_filename(train_S1)\n",
    "train_S1 = code_domain_text(train_S1)\n",
    "\n",
    "test_S1 = code_lang(test_S1)\n",
    "test_S1 = code_domain_filename(test_S1)\n",
    "test_S1 = code_domain_text(test_S1)\n",
    "\n",
    "test_S2 = code_lang(test_S2)\n",
    "test_S2 = code_domain_filename(test_S2)\n",
    "test_S2 = code_domain_text(test_S2)\n"
   ],
   "id": "cb2474c9a8790117",
   "outputs": [],
   "execution_count": 31
  },
  {
   "metadata": {
    "ExecuteTime": {
     "end_time": "2025-03-19T23:05:30.732202Z",
     "start_time": "2025-03-19T23:05:30.727659Z"
    }
   },
   "cell_type": "code",
   "source": "train_all['Language'].value_counts()",
   "id": "7902ec259b1f2512",
   "outputs": [
    {
     "data": {
      "text/plain": [
       "Language\n",
       "BG    401\n",
       "PT    400\n",
       "EN    399\n",
       "HI    366\n",
       "RU    216\n",
       "Name: count, dtype: int64"
      ]
     },
     "execution_count": 32,
     "metadata": {},
     "output_type": "execute_result"
    }
   ],
   "execution_count": 32
  },
  {
   "metadata": {
    "ExecuteTime": {
     "end_time": "2025-03-19T23:05:31.212749Z",
     "start_time": "2025-03-19T23:05:31.208966Z"
    }
   },
   "cell_type": "code",
   "source": "train_all['Domain'].value_counts()",
   "id": "90e38b33155c5776",
   "outputs": [
    {
     "data": {
      "text/plain": [
       "Domain\n",
       "UA    1249\n",
       "CC     533\n",
       "Name: count, dtype: int64"
      ]
     },
     "execution_count": 33,
     "metadata": {},
     "output_type": "execute_result"
    }
   ],
   "execution_count": 33
  },
  {
   "metadata": {
    "ExecuteTime": {
     "end_time": "2025-03-19T23:05:33.893283Z",
     "start_time": "2025-03-19T23:05:33.888322Z"
    }
   },
   "cell_type": "code",
   "source": "train_S1['Language'].value_counts()",
   "id": "ef58427d3ce363f7",
   "outputs": [
    {
     "data": {
      "text/plain": [
       "Language\n",
       "HI    342\n",
       "PT    306\n",
       "BG    259\n",
       "RU    213\n",
       "EN    202\n",
       "Name: count, dtype: int64"
      ]
     },
     "execution_count": 34,
     "metadata": {},
     "output_type": "execute_result"
    }
   ],
   "execution_count": 34
  },
  {
   "metadata": {
    "ExecuteTime": {
     "end_time": "2025-03-19T23:05:45.275950Z",
     "start_time": "2025-03-19T23:05:45.272321Z"
    }
   },
   "cell_type": "code",
   "source": "train_S1['Domain'].value_counts()",
   "id": "45e4e785ae24bdd4",
   "outputs": [
    {
     "data": {
      "text/plain": [
       "Domain\n",
       "UA    1071\n",
       "CC     251\n",
       "Name: count, dtype: int64"
      ]
     },
     "execution_count": 35,
     "metadata": {},
     "output_type": "execute_result"
    }
   ],
   "execution_count": 35
  },
  {
   "metadata": {
    "ExecuteTime": {
     "end_time": "2025-03-19T23:05:57.556563Z",
     "start_time": "2025-03-19T23:05:57.552758Z"
    }
   },
   "cell_type": "code",
   "source": "test_S1['Language'].value_counts()",
   "id": "28fc225392661013",
   "outputs": [
    {
     "data": {
      "text/plain": [
       "Language\n",
       "HI    35\n",
       "PT    31\n",
       "RU    28\n",
       "EN    27\n",
       "BG    15\n",
       "Name: count, dtype: int64"
      ]
     },
     "execution_count": 36,
     "metadata": {},
     "output_type": "execute_result"
    }
   ],
   "execution_count": 36
  },
  {
   "metadata": {
    "ExecuteTime": {
     "end_time": "2025-03-19T23:06:09.008147Z",
     "start_time": "2025-03-19T23:06:09.003365Z"
    }
   },
   "cell_type": "code",
   "source": "test_S1['Domain'].value_counts()",
   "id": "fd501dbe3b81a65d",
   "outputs": [
    {
     "data": {
      "text/plain": [
       "Domain\n",
       "UA    91\n",
       "CC    45\n",
       "Name: count, dtype: int64"
      ]
     },
     "execution_count": 37,
     "metadata": {},
     "output_type": "execute_result"
    }
   ],
   "execution_count": 37
  },
  {
   "metadata": {
    "ExecuteTime": {
     "end_time": "2025-03-19T23:06:13.516960Z",
     "start_time": "2025-03-19T23:06:13.513052Z"
    }
   },
   "cell_type": "code",
   "source": "test_S2['Language'].value_counts()",
   "id": "28436e95fff8b116",
   "outputs": [
    {
     "data": {
      "text/plain": [
       "Language\n",
       "EN    41\n",
       "PT    35\n",
       "BG    35\n",
       "HI    35\n",
       "RU    32\n",
       "Name: count, dtype: int64"
      ]
     },
     "execution_count": 38,
     "metadata": {},
     "output_type": "execute_result"
    }
   ],
   "execution_count": 38
  },
  {
   "metadata": {
    "ExecuteTime": {
     "end_time": "2025-03-19T23:06:17.783999Z",
     "start_time": "2025-03-19T23:06:17.779467Z"
    }
   },
   "cell_type": "code",
   "source": "test_S2['Domain'].value_counts()",
   "id": "1279f09b0bcc8bd6",
   "outputs": [
    {
     "data": {
      "text/plain": [
       "Domain\n",
       "UA    105\n",
       "CC     73\n",
       "Name: count, dtype: int64"
      ]
     },
     "execution_count": 39,
     "metadata": {},
     "output_type": "execute_result"
    }
   ],
   "execution_count": 39
  },
  {
   "metadata": {
    "ExecuteTime": {
     "end_time": "2025-03-19T23:08:08.659309Z",
     "start_time": "2025-03-19T23:08:08.656227Z"
    }
   },
   "cell_type": "code",
   "source": "os.getcwd()",
   "id": "d127b3c4c7790f6a",
   "outputs": [
    {
     "data": {
      "text/plain": [
       "'/Users/aahepburn/Development/Multi-task-Propaganda-Detection-MSc-Thesis-2025-AH/Data'"
      ]
     },
     "execution_count": 40,
     "metadata": {},
     "output_type": "execute_result"
    }
   ],
   "execution_count": 40
  },
  {
   "metadata": {
    "ExecuteTime": {
     "end_time": "2025-03-19T23:08:15.285199Z",
     "start_time": "2025-03-19T23:08:15.148991Z"
    }
   },
   "cell_type": "code",
   "source": [
    "train_all.to_csv('Train/train-all-articles.csv', index=False)\n",
    "train_S1.to_csv('Train/train-S1-articles.csv', index=False)\n",
    "test_S1.to_csv('Test/test-S1-articles.csv', index=False)\n",
    "test_S2.to_csv('Test/test-S2-articles.csv', index=False)"
   ],
   "id": "eb9f1ba2e86eada3",
   "outputs": [],
   "execution_count": 41
  },
  {
   "metadata": {},
   "cell_type": "code",
   "outputs": [],
   "execution_count": null,
   "source": "",
   "id": "5fda11d4a8705848"
  }
 ],
 "metadata": {
  "kernelspec": {
   "display_name": "Python 3",
   "language": "python",
   "name": "python3"
  },
  "language_info": {
   "codemirror_mode": {
    "name": "ipython",
    "version": 2
   },
   "file_extension": ".py",
   "mimetype": "text/x-python",
   "name": "python",
   "nbconvert_exporter": "python",
   "pygments_lexer": "ipython2",
   "version": "2.7.6"
  }
 },
 "nbformat": 4,
 "nbformat_minor": 5
}
